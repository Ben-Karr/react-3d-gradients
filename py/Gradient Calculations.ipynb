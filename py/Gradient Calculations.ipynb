{
 "cells": [
  {
   "cell_type": "code",
   "execution_count": null,
   "id": "7f9d62c6",
   "metadata": {},
   "outputs": [],
   "source": [
    "import torch\n",
    "from torch.nn import MSELoss, L1Loss"
   ]
  },
  {
   "cell_type": "markdown",
   "id": "d3e14bb4",
   "metadata": {},
   "source": [
    "## Setup"
   ]
  },
  {
   "cell_type": "code",
   "execution_count": null,
   "id": "ae4f7ea1",
   "metadata": {},
   "outputs": [],
   "source": [
    "xs = torch.arange(start=-10, end=10, step=0.2)\n",
    "ys = torch.load('ys.pkl') ## same as debugYs in app"
   ]
  },
  {
   "cell_type": "code",
   "execution_count": null,
   "id": "6a20c494",
   "metadata": {},
   "outputs": [],
   "source": [
    "def mk_quad(a,b):\n",
    "    return lambda x: a*torch.pow(x,2)+b*x"
   ]
  },
  {
   "cell_type": "code",
   "execution_count": null,
   "id": "58d402dd",
   "metadata": {},
   "outputs": [],
   "source": [
    "ab = torch.tensor([1.,1.], requires_grad=True)\n",
    "quad = mk_quad(*ab)"
   ]
  },
  {
   "cell_type": "markdown",
   "id": "b96f4e87",
   "metadata": {},
   "source": [
    "## MAE"
   ]
  },
  {
   "cell_type": "code",
   "execution_count": null,
   "id": "bfb81909",
   "metadata": {},
   "outputs": [],
   "source": [
    "ab.grad = None\n",
    "critic = L1Loss()\n",
    "pred_ys = quad(xs)"
   ]
  },
  {
   "cell_type": "code",
   "execution_count": null,
   "id": "5f51d468",
   "metadata": {},
   "outputs": [
    {
     "data": {
      "text/plain": [
       "tensor(66.9172, grad_fn=<L1LossBackward0>)"
      ]
     },
     "execution_count": null,
     "metadata": {},
     "output_type": "execute_result"
    }
   ],
   "source": [
    "loss = critic(pred_ys, ys)\n",
    "loss"
   ]
  },
  {
   "cell_type": "code",
   "execution_count": null,
   "id": "c9bbef96",
   "metadata": {},
   "outputs": [
    {
     "data": {
      "text/plain": [
       "tensor([-33.2632,   0.0440])"
      ]
     },
     "execution_count": null,
     "metadata": {},
     "output_type": "execute_result"
    }
   ],
   "source": [
    "loss.backward()\n",
    "ab.grad"
   ]
  },
  {
   "cell_type": "code",
   "execution_count": null,
   "id": "e77171bc",
   "metadata": {},
   "outputs": [
    {
     "data": {
      "text/plain": [
       "tensor(33.2632)"
      ]
     },
     "execution_count": null,
     "metadata": {},
     "output_type": "execute_result"
    }
   ],
   "source": [
    "gradients_magnitude = torch.norm(ab.grad)\n",
    "gradients_magnitude"
   ]
  },
  {
   "cell_type": "markdown",
   "id": "331f05e1",
   "metadata": {},
   "source": [
    "## MSE"
   ]
  },
  {
   "cell_type": "code",
   "execution_count": null,
   "id": "67dc3b2b",
   "metadata": {},
   "outputs": [],
   "source": [
    "critic = MSELoss()"
   ]
  },
  {
   "cell_type": "code",
   "execution_count": null,
   "id": "707bff05",
   "metadata": {},
   "outputs": [
    {
     "data": {
      "text/plain": [
       "tensor(8016.4155, grad_fn=<MseLossBackward0>)"
      ]
     },
     "execution_count": null,
     "metadata": {},
     "output_type": "execute_result"
    }
   ],
   "source": [
    "ab.grad = None\n",
    "pred_ys = quad(xs)\n",
    "loss = critic(pred_ys, ys)\n",
    "loss"
   ]
  },
  {
   "cell_type": "code",
   "execution_count": null,
   "id": "b4998103",
   "metadata": {},
   "outputs": [
    {
     "data": {
      "text/plain": [
       "tensor([-7910.7666,   -15.1460])"
      ]
     },
     "execution_count": null,
     "metadata": {},
     "output_type": "execute_result"
    }
   ],
   "source": [
    "loss.backward()\n",
    "ab.grad"
   ]
  },
  {
   "cell_type": "code",
   "execution_count": null,
   "id": "a5c12091",
   "metadata": {},
   "outputs": [
    {
     "data": {
      "text/plain": [
       "tensor(7910.7808)"
      ]
     },
     "execution_count": null,
     "metadata": {},
     "output_type": "execute_result"
    }
   ],
   "source": [
    "gradients_magnitude = torch.norm(ab.grad)\n",
    "gradients_magnitude"
   ]
  },
  {
   "cell_type": "markdown",
   "id": "2cfab8ac",
   "metadata": {},
   "source": [
    "## RMSE"
   ]
  },
  {
   "cell_type": "code",
   "execution_count": null,
   "id": "12daa17b",
   "metadata": {},
   "outputs": [],
   "source": [
    "critic = MSELoss() ## root applied at loss"
   ]
  },
  {
   "cell_type": "code",
   "execution_count": null,
   "id": "111e31f5",
   "metadata": {},
   "outputs": [],
   "source": [
    "ab.grad = None\n",
    "pred_ys = quad(xs)"
   ]
  },
  {
   "cell_type": "code",
   "execution_count": null,
   "id": "9d8c53ae",
   "metadata": {},
   "outputs": [
    {
     "data": {
      "text/plain": [
       "tensor(89.5344, grad_fn=<SqrtBackward0>)"
      ]
     },
     "execution_count": null,
     "metadata": {},
     "output_type": "execute_result"
    }
   ],
   "source": [
    "loss = torch.sqrt(critic(pred_ys, ys))\n",
    "loss"
   ]
  },
  {
   "cell_type": "code",
   "execution_count": null,
   "id": "b09127ec",
   "metadata": {},
   "outputs": [
    {
     "data": {
      "text/plain": [
       "tensor([-44.1772,  -0.0846])"
      ]
     },
     "execution_count": null,
     "metadata": {},
     "output_type": "execute_result"
    }
   ],
   "source": [
    "loss.backward()\n",
    "ab.grad"
   ]
  },
  {
   "cell_type": "code",
   "execution_count": null,
   "id": "7ce0a288",
   "metadata": {},
   "outputs": [
    {
     "data": {
      "text/plain": [
       "tensor(44.1773)"
      ]
     },
     "execution_count": null,
     "metadata": {},
     "output_type": "execute_result"
    }
   ],
   "source": [
    "gradients_magnitude = torch.norm(ab.grad)\n",
    "gradients_magnitude"
   ]
  }
 ],
 "metadata": {
  "kernelspec": {
   "display_name": "Python 3 (ipykernel)",
   "language": "python",
   "name": "python3"
  }
 },
 "nbformat": 4,
 "nbformat_minor": 5
}
